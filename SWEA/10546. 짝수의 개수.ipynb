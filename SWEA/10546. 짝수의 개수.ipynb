{
 "cells": [
  {
   "cell_type": "code",
   "execution_count": null,
   "metadata": {},
   "outputs": [],
   "source": [
    "T = int(input())\n",
    "for i in range(T):\n",
    "    \n",
    "    N = int(input())\n",
    "    my_list = list(map(int, input().split()))\n",
    "    cnt = 0\n",
    "    \n",
    "    for j in my_list:\n",
    "        if j%2 == 0:\n",
    "            cnt+=1\n",
    "            \n",
    "    print(\"#\"+ str(i+1)+\" \"+str(cnt))"
   ]
  }
 ],
 "metadata": {
  "kernelspec": {
   "display_name": "Python 3",
   "language": "python",
   "name": "python3"
  },
  "language_info": {
   "codemirror_mode": {
    "name": "ipython",
    "version": 3
   },
   "file_extension": ".py",
   "mimetype": "text/x-python",
   "name": "python",
   "nbconvert_exporter": "python",
   "pygments_lexer": "ipython3",
   "version": "3.7.7"
  }
 },
 "nbformat": 4,
 "nbformat_minor": 4
}
