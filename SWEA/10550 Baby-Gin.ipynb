{
 "cells": [
  {
   "cell_type": "code",
   "execution_count": null,
   "metadata": {},
   "outputs": [],
   "source": [
    "T = int(input())\n",
    "for t in range(T):\n",
    "    num = int(input())\n",
    "    c = [0]*12\n",
    "    for i in range(6):\n",
    "        c[num %10] += 1\n",
    "        num //=10\n",
    "    \n",
    "    i = 0\n",
    "    tri = 0\n",
    "    rrun = 0\n",
    "    while i < 10:\n",
    "        if c[i] >=3:\n",
    "            c[i] -= 3\n",
    "            tri += 1\n",
    "            continue\n",
    "        if c[i] >= 1 and c[i+1] >= 1 and c[i+2] >= 1:\n",
    "            c[i] -= 1\n",
    "            c[i+1] -= 1\n",
    "            c[i+2] -= 1\n",
    "            rrun += 1\n",
    "            continue\n",
    "        i+= 1\n",
    "    \n",
    "    if rrun + tri == 2:\n",
    "        print(f'#{t+1} Baby Gin')\n",
    "    else:\n",
    "        print(f'#{t+1} Lose')"
   ]
  }
 ],
 "metadata": {
  "kernelspec": {
   "display_name": "Python 3",
   "language": "python",
   "name": "python3"
  },
  "language_info": {
   "codemirror_mode": {
    "name": "ipython",
    "version": 3
   },
   "file_extension": ".py",
   "mimetype": "text/x-python",
   "name": "python",
   "nbconvert_exporter": "python",
   "pygments_lexer": "ipython3",
   "version": "3.7.7"
  }
 },
 "nbformat": 4,
 "nbformat_minor": 4
}
