{
 "cells": [
  {
   "cell_type": "code",
   "execution_count": null,
   "metadata": {},
   "outputs": [],
   "source": [
    "T = int(input())\n",
    "\n",
    "for i in range(T):\n",
    "    \n",
    "    N = int(input())\n",
    "    my_list = list(map(int, input().split()))\n",
    "    minimum = my_list[0]\n",
    "    mini_index = 1\n",
    "    \n",
    "    for j in range(1, N):\n",
    "        if minimum > my_list[j]:\n",
    "            minimum = my_list[j]\n",
    "            mini_index = j+1\n",
    "            \n",
    "    print(\"#\"+ str(i+1)+\" \"+str(mini_index))"
   ]
  }
 ],
 "metadata": {
  "kernelspec": {
   "display_name": "Python 3",
   "language": "python",
   "name": "python3"
  },
  "language_info": {
   "codemirror_mode": {
    "name": "ipython",
    "version": 3
   },
   "file_extension": ".py",
   "mimetype": "text/x-python",
   "name": "python",
   "nbconvert_exporter": "python",
   "pygments_lexer": "ipython3",
   "version": "3.7.7"
  }
 },
 "nbformat": 4,
 "nbformat_minor": 4
}
