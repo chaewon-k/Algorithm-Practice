{
 "cells": [
  {
   "cell_type": "code",
   "execution_count": null,
   "metadata": {},
   "outputs": [],
   "source": [
    "T = int(input())\n",
    "for i in range(T):\n",
    "    N = int(input())\n",
    "    my_list = list(map(int, input().split()))\n",
    "    maximum = 0\n",
    "    \n",
    "    for k in range(N-1):\n",
    "        diff = 0\n",
    "        for j in range(k+1,N):\n",
    "            if my_list[k] > my_list[j]:\n",
    "                diff += 1\n",
    "        if diff > maximum:\n",
    "            maximum = diff\n",
    "            \n",
    "    print(\"#\"+ str(i+1)+\" \"+str(maximum))"
   ]
  }
 ],
 "metadata": {
  "kernelspec": {
   "display_name": "Python 3",
   "language": "python",
   "name": "python3"
  },
  "language_info": {
   "codemirror_mode": {
    "name": "ipython",
    "version": 3
   },
   "file_extension": ".py",
   "mimetype": "text/x-python",
   "name": "python",
   "nbconvert_exporter": "python",
   "pygments_lexer": "ipython3",
   "version": "3.7.7"
  }
 },
 "nbformat": 4,
 "nbformat_minor": 4
}
