{
 "cells": [
  {
   "cell_type": "code",
   "execution_count": null,
   "metadata": {},
   "outputs": [],
   "source": [
    "for t in range(10):\n",
    "    N = int(input())\n",
    "    my_list = list(map(int, input().split()))\n",
    "    result = 0\n",
    "    for i in range(2, N-2):\n",
    "        \n",
    "        max_l = max(my_list[i-2],my_list[i-1])\n",
    "        max_r = max(my_list[i+1],my_list[i+2])\n",
    "        max_total = max(max_l, max_r)\n",
    "        \n",
    "        if my_list[i] > max_total :\n",
    "            result += (my_list[i] - max_total)\n",
    "    print(f'#{t+1} {result}')"
   ]
  }
 ],
 "metadata": {
  "kernelspec": {
   "display_name": "Python 3",
   "language": "python",
   "name": "python3"
  },
  "language_info": {
   "codemirror_mode": {
    "name": "ipython",
    "version": 3
   },
   "file_extension": ".py",
   "mimetype": "text/x-python",
   "name": "python",
   "nbconvert_exporter": "python",
   "pygments_lexer": "ipython3",
   "version": "3.7.7"
  }
 },
 "nbformat": 4,
 "nbformat_minor": 4
}
